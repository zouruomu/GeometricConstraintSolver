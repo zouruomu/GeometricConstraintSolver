{
 "cells": [
  {
   "cell_type": "code",
   "execution_count": 1,
   "id": "22753383-b491-4877-8a79-ac2a9357215a",
   "metadata": {},
   "outputs": [],
   "source": [
    "import os\n",
    "import warnings\n",
    "warnings.filterwarnings('ignore')\n",
    "from itertools import product, combinations\n",
    "import numpy as np\n",
    "import scipy\n",
    "from scipy.spatial.transform import Rotation as R\n",
    "from scipy.optimize import minimize, basinhopping\n",
    "import matplotlib\n",
    "matplotlib.rcParams['figure.dpi'] = 140\n",
    "import matplotlib.pyplot as plt\n",
    "import matplotlib.patches as mpatches\n",
    "import matplotlib.colors as mcolors\n",
    "from tqdm import tqdm\n",
    "import shutil\n",
    "import pickle\n",
    "import multiprocessing\n",
    "from multiprocessing import Process\n",
    "\n",
    "import sys\n",
    "sys.path.append(\"../\")\n",
    "from source import *"
   ]
  },
  {
   "cell_type": "code",
   "execution_count": 25,
   "id": "f4f716ae-da7f-41e1-8503-ea95eea2577e",
   "metadata": {},
   "outputs": [],
   "source": [
    "with open(\"./GeneratedData/Dataset20.pkl\", \"rb\") as f:\n",
    "        dataset = pickle.load(f)"
   ]
  }
 ],
 "metadata": {
  "kernelspec": {
   "display_name": "Python 3 (ipykernel)",
   "language": "python",
   "name": "python3"
  },
  "language_info": {
   "codemirror_mode": {
    "name": "ipython",
    "version": 3
   },
   "file_extension": ".py",
   "mimetype": "text/x-python",
   "name": "python",
   "nbconvert_exporter": "python",
   "pygments_lexer": "ipython3",
   "version": "3.11.6"
  }
 },
 "nbformat": 4,
 "nbformat_minor": 5
}
