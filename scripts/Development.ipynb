{
 "cells": [
  {
   "cell_type": "code",
   "execution_count": 1,
   "id": "22753383-b491-4877-8a79-ac2a9357215a",
   "metadata": {},
   "outputs": [],
   "source": [
    "import os\n",
    "import warnings\n",
    "warnings.filterwarnings('ignore')\n",
    "from itertools import product, combinations\n",
    "import numpy as np\n",
    "import scipy\n",
    "from scipy.spatial.transform import Rotation as R\n",
    "from scipy.optimize import minimize, basinhopping\n",
    "import matplotlib\n",
    "matplotlib.rcParams['figure.dpi'] = 140\n",
    "import matplotlib.pyplot as plt\n",
    "import matplotlib.patches as mpatches\n",
    "import matplotlib.colors as mcolors\n",
    "from tqdm import tqdm\n",
    "import shutil\n",
    "import pickle\n",
    "import multiprocessing\n",
    "from multiprocessing import Process\n",
    "\n",
    "import sys\n",
    "sys.path.append(\"../\")\n",
    "from source import *"
   ]
  },
  {
   "cell_type": "code",
   "execution_count": 18,
   "id": "f4f716ae-da7f-41e1-8503-ea95eea2577e",
   "metadata": {},
   "outputs": [],
   "source": [
    "# with open(\"../data/SmallDatasetExample/Dataset20.pkl\", \"rb\") as f:\n",
    "#         dataset = pickle.load(f)"
   ]
  },
  {
   "cell_type": "code",
   "execution_count": 22,
   "id": "831b964b-50d3-4c28-8018-766226c2ccb0",
   "metadata": {},
   "outputs": [],
   "source": [
    "# problem = Problem(scene_xmin=-10, scene_xmax=10,\n",
    "#                   scene_ymin=-10, scene_ymax=10,\n",
    "#                   scene_zmax=10)\n",
    "\n",
    "# # add objects\n",
    "# cube1 = Cuboid([0,0,1],[0,0,0],[2,2,2],\"cube1\")\n",
    "# problem.add_optimizable_object(cube1)\n",
    "# cube2 = Cuboid([-4,0,1],[0,0,0],[2,2,2],\"cube2\")\n",
    "# problem.add_optimizable_object(cube2)\n",
    "\n",
    "# # add constraints\n",
    "# constraint = Direction([cube1, cube2],\"right\")\n",
    "# problem.add_constraint_proposition(constraint, weight=1)\n",
    "# print(constraint)\n",
    "\n",
    "# # plot initial/final and solve\n",
    "# fig, ax = plt.subplots(nrows=2, ncols=2, figsize=(12,12), subplot_kw={\"projection\": \"3d\"})\n",
    "# problem.plot_on_ax(ax=ax[0][0], ax_title=\"Unconstrained Objects (Perspective View)\",\n",
    "#                                elev=30, azim=40, persp=True)\n",
    "# problem.plot_on_ax(ax=ax[0][1], ax_title=\"Unconstrained Objects (Top View)\",\n",
    "#                                elev=90, azim=-90, persp=False)\n",
    "# problem.solve(verbose=True)\n",
    "# problem.plot_on_ax(ax=ax[1][0], ax_title=\"Solved Objects (Perspective View)\",\n",
    "#                                elev=30, azim=40, persp=True)\n",
    "# problem.plot_on_ax(ax=ax[1][1], ax_title=\"Solved Objects (Top View)\",\n",
    "#                                elev=90, azim=-90, persp=False)"
   ]
  }
 ],
 "metadata": {
  "kernelspec": {
   "display_name": "Python 3 (ipykernel)",
   "language": "python",
   "name": "python3"
  },
  "language_info": {
   "codemirror_mode": {
    "name": "ipython",
    "version": 3
   },
   "file_extension": ".py",
   "mimetype": "text/x-python",
   "name": "python",
   "nbconvert_exporter": "python",
   "pygments_lexer": "ipython3",
   "version": "3.11.6"
  }
 },
 "nbformat": 4,
 "nbformat_minor": 5
}
